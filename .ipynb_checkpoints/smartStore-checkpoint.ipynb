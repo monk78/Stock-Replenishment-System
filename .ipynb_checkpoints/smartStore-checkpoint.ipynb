{
 "cells": [
  {
   "cell_type": "raw",
   "metadata": {},
   "source": [
    "Problem:\n",
    " The stock replenishment: It is an operation that consists in ordering more stocks in order to fulfill the             customer demand.We have to provide a smart solution to it.\n",
    "\n",
    "Solution:We will  automate the replenishment process when it will hit the reorder point (also called reorder trigger level) and order some amount of product which will be targeted to last for 2 months.\n",
    " \n",
    " My solution is broken into two parts.\n",
    "\n",
    "  1.Calculating Reorder Point: We will use object detection to count the number of item present in the store.Which  will provide smart feedback to our system.When we will hit certain level(minimum level) we will reroder.\n",
    "  2.How Much Reorder:This part of sol\n"
   ]
  },
  {
   "cell_type": "markdown",
   "metadata": {},
   "source": []
  },
  {
   "cell_type": "code",
   "execution_count": null,
   "metadata": {},
   "outputs": [],
   "source": []
  },
  {
   "cell_type": "code",
   "execution_count": null,
   "metadata": {},
   "outputs": [],
   "source": []
  },
  {
   "cell_type": "code",
   "execution_count": null,
   "metadata": {},
   "outputs": [],
   "source": []
  },
  {
   "cell_type": "code",
   "execution_count": null,
   "metadata": {},
   "outputs": [],
   "source": []
  }
 ],
 "metadata": {
  "kernelspec": {
   "display_name": "Python 3",
   "language": "python",
   "name": "python3"
  },
  "language_info": {
   "codemirror_mode": {
    "name": "ipython",
    "version": 3
   },
   "file_extension": ".py",
   "mimetype": "text/x-python",
   "name": "python",
   "nbconvert_exporter": "python",
   "pygments_lexer": "ipython3",
   "version": "3.7.4"
  }
 },
 "nbformat": 4,
 "nbformat_minor": 2
}
